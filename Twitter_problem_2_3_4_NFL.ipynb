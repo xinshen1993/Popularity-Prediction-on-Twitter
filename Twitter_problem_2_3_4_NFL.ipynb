{
 "cells": [
  {
   "cell_type": "code",
   "execution_count": 2,
   "metadata": {
    "collapsed": true
   },
   "outputs": [],
   "source": [
    "import json\n",
    "import datetime, time"
   ]
  },
  {
   "cell_type": "code",
   "execution_count": 2,
   "metadata": {
    "collapsed": true
   },
   "outputs": [],
   "source": [
    "f = open('tweets_#nfl.txt')\n",
    "line = f.readline()"
   ]
  },
  {
   "cell_type": "code",
   "execution_count": 3,
   "metadata": {
    "collapsed": true
   },
   "outputs": [],
   "source": [
    "tweets = []"
   ]
  },
  {
   "cell_type": "code",
   "execution_count": 4,
   "metadata": {
    "collapsed": false
   },
   "outputs": [],
   "source": [
    "while len(line)!=0:\n",
    "    tweet = json.loads(line)\n",
    "    tweets.append(tweet)\n",
    "    line = f.readline()"
   ]
  },
  {
   "cell_type": "code",
   "execution_count": 5,
   "metadata": {
    "collapsed": true
   },
   "outputs": [],
   "source": [
    "num_tweets=len(tweets)"
   ]
  },
  {
   "cell_type": "code",
   "execution_count": 6,
   "metadata": {
    "collapsed": false
   },
   "outputs": [
    {
     "data": {
      "text/plain": [
       "259024"
      ]
     },
     "execution_count": 6,
     "metadata": {},
     "output_type": "execute_result"
    }
   ],
   "source": [
    "num_tweets"
   ]
  },
  {
   "cell_type": "code",
   "execution_count": 7,
   "metadata": {
    "collapsed": true
   },
   "outputs": [],
   "source": [
    "first_tweet=tweets[0]\n",
    "last_tweet=tweets[-1]"
   ]
  },
  {
   "cell_type": "code",
   "execution_count": 8,
   "metadata": {
    "collapsed": false
   },
   "outputs": [
    {
     "data": {
      "text/plain": [
       "1419999683"
      ]
     },
     "execution_count": 8,
     "metadata": {},
     "output_type": "execute_result"
    }
   ],
   "source": [
    "first_tweet['firstpost_date']"
   ]
  },
  {
   "cell_type": "code",
   "execution_count": 9,
   "metadata": {
    "collapsed": false
   },
   "outputs": [
    {
     "data": {
      "text/plain": [
       "time.struct_time(tm_year=2014, tm_mon=12, tm_mday=30, tm_hour=20, tm_min=21, tm_sec=23, tm_wday=1, tm_yday=364, tm_isdst=0)"
      ]
     },
     "execution_count": 9,
     "metadata": {},
     "output_type": "execute_result"
    }
   ],
   "source": [
    "time.localtime(1419999683)"
   ]
  },
  {
   "cell_type": "code",
   "execution_count": 4,
   "metadata": {
    "collapsed": false
   },
   "outputs": [
    {
     "data": {
      "text/plain": [
       "time.struct_time(tm_year=2015, tm_mon=1, tm_mday=29, tm_hour=15, tm_min=59, tm_sec=5, tm_wday=3, tm_yday=29, tm_isdst=0)"
      ]
     },
     "execution_count": 4,
     "metadata": {},
     "output_type": "execute_result"
    }
   ],
   "source": [
    "time.localtime(1422575945)"
   ]
  },
  {
   "cell_type": "code",
   "execution_count": 10,
   "metadata": {
    "collapsed": false
   },
   "outputs": [
    {
     "data": {
      "text/plain": [
       "1423335336"
      ]
     },
     "execution_count": 10,
     "metadata": {},
     "output_type": "execute_result"
    }
   ],
   "source": [
    "last_tweet['firstpost_date']"
   ]
  },
  {
   "cell_type": "code",
   "execution_count": 11,
   "metadata": {
    "collapsed": false
   },
   "outputs": [
    {
     "data": {
      "text/plain": [
       "time.struct_time(tm_year=2015, tm_mon=2, tm_mday=7, tm_hour=10, tm_min=55, tm_sec=36, tm_wday=5, tm_yday=38, tm_isdst=0)"
      ]
     },
     "execution_count": 11,
     "metadata": {},
     "output_type": "execute_result"
    }
   ],
   "source": [
    "time.localtime(1423335336)"
   ]
  },
  {
   "cell_type": "markdown",
   "metadata": {},
   "source": [
    "### #of tweets per hour"
   ]
  },
  {
   "cell_type": "code",
   "execution_count": 12,
   "metadata": {
    "collapsed": true
   },
   "outputs": [],
   "source": [
    "start_date = datetime.datetime(2014, 12, 30, 20,0,0) #this is the time nfl start\n",
    "mintime = int(time.mktime(start_date.timetuple()))\n",
    "end_date = datetime.datetime(2015,2,8, 0,0,0)\n",
    "maxtime = int(time.mktime(end_date.timetuple()))"
   ]
  },
  {
   "cell_type": "code",
   "execution_count": 13,
   "metadata": {
    "collapsed": true
   },
   "outputs": [],
   "source": [
    "tweets_hours=[];\n",
    "tweet_in_hour=0;\n",
    "i=0;"
   ]
  },
  {
   "cell_type": "code",
   "execution_count": 14,
   "metadata": {
    "collapsed": false
   },
   "outputs": [],
   "source": [
    "while i<num_tweets:\n",
    "    tweet=tweets[i]\n",
    "    tweet_time = tweet['firstpost_date']\n",
    "    if tweet_time>=mintime and tweet_time<mintime+3600:\n",
    "        tweet_in_hour +=1\n",
    "        i+=1\n",
    "        if i==num_tweets:\n",
    "            tweets_hours.append(tweet_in_hour) #help plot the final part\n",
    "    else:\n",
    "        mark=1 # there is a tweet need to be delt with\n",
    "        tweets_hours.append(tweet_in_hour)\n",
    "        tweet_in_hour=0\n",
    "        while mark==1:\n",
    "            mintime = mintime+3600\n",
    "            if tweet_time>=mintime and tweet_time<mintime+3600:\n",
    "                tweet_in_hour +=1\n",
    "                mark=0 #this tweet has been delt with\n",
    "            else:\n",
    "                tweets_hours.append(0)\n",
    "        i+=1\n",
    "        if i==num_tweets:\n",
    "            tweets_hours.append(tweet_in_hour) #help plot the final part"
   ]
  },
  {
   "cell_type": "code",
   "execution_count": 15,
   "metadata": {
    "collapsed": false
   },
   "outputs": [
    {
     "data": {
      "text/plain": [
       "927"
      ]
     },
     "execution_count": 15,
     "metadata": {},
     "output_type": "execute_result"
    }
   ],
   "source": [
    "len(tweets_hours)"
   ]
  },
  {
   "cell_type": "markdown",
   "metadata": {},
   "source": [
    "### #of retweets per hour"
   ]
  },
  {
   "cell_type": "code",
   "execution_count": 16,
   "metadata": {
    "collapsed": true
   },
   "outputs": [],
   "source": [
    "start_date = datetime.datetime(2014, 12, 30, 20,0,0)\n",
    "mintime = int(time.mktime(start_date.timetuple()))\n",
    "end_date = datetime.datetime(2015,2,8, 0,0,0)\n",
    "maxtime = int(time.mktime(end_date.timetuple()))"
   ]
  },
  {
   "cell_type": "code",
   "execution_count": 17,
   "metadata": {
    "collapsed": true
   },
   "outputs": [],
   "source": [
    "retweets_hours=[]\n",
    "retweet_in_hour=0\n",
    "i=0"
   ]
  },
  {
   "cell_type": "code",
   "execution_count": 18,
   "metadata": {
    "collapsed": false
   },
   "outputs": [],
   "source": [
    "while i<num_tweets:\n",
    "    tweet=tweets[i]\n",
    "    tweet_time = tweet['firstpost_date']\n",
    "    if tweet_time>=mintime and tweet_time<mintime+3600:\n",
    "        retweet_in_hour += tweet['metrics']['citations']['total']\n",
    "        i+=1\n",
    "        if i==num_tweets:\n",
    "            retweets_hours.append(retweet_in_hour) #help plot the final part\n",
    "    else:\n",
    "        mark=1 #there is a tweet need to be delt with\n",
    "        retweets_hours.append(retweet_in_hour)\n",
    "        retweet_in_hour=0\n",
    "        while mark==1:\n",
    "            mintime = mintime+3600\n",
    "            if tweet_time>=mintime and tweet_time<mintime+3600:\n",
    "                retweet_in_hour += tweet['metrics']['citations']['total']\n",
    "                mark=0 #this tweet has been delt with\n",
    "            else:\n",
    "                retweets_hours.append(0)\n",
    "        i+=1\n",
    "        if i==num_tweets:\n",
    "            retweets_hours.append(retweet_in_hour) #help plot the final part"
   ]
  },
  {
   "cell_type": "code",
   "execution_count": 19,
   "metadata": {
    "collapsed": false
   },
   "outputs": [
    {
     "data": {
      "text/plain": [
       "927"
      ]
     },
     "execution_count": 19,
     "metadata": {},
     "output_type": "execute_result"
    }
   ],
   "source": [
    "len(retweets_hours)"
   ]
  },
  {
   "cell_type": "markdown",
   "metadata": {},
   "source": [
    "### #of followers per hour and maximum #of followers per hour"
   ]
  },
  {
   "cell_type": "code",
   "execution_count": 20,
   "metadata": {
    "collapsed": true
   },
   "outputs": [],
   "source": [
    "start_date = datetime.datetime(2014, 12, 30, 20,0,0)\n",
    "mintime = int(time.mktime(start_date.timetuple()))\n",
    "end_date = datetime.datetime(2015,2,8, 0,0,0)\n",
    "maxtime = int(time.mktime(end_date.timetuple()))"
   ]
  },
  {
   "cell_type": "code",
   "execution_count": 21,
   "metadata": {
    "collapsed": true
   },
   "outputs": [],
   "source": [
    "followers_hours=[]\n",
    "follower_in_hour=0\n",
    "i=0"
   ]
  },
  {
   "cell_type": "code",
   "execution_count": 22,
   "metadata": {
    "collapsed": true
   },
   "outputs": [],
   "source": [
    "max_followers_hours=[]\n",
    "max_followers_in_hour = 0\n",
    "unique_users=[]"
   ]
  },
  {
   "cell_type": "code",
   "execution_count": 23,
   "metadata": {
    "collapsed": false
   },
   "outputs": [],
   "source": [
    "while i<num_tweets:\n",
    "    tweet=tweets[i]\n",
    "    tweet_time = tweet['firstpost_date']\n",
    "    if tweet_time>=mintime and tweet_time<mintime+3600:\n",
    "        cluster=tweet['author']['nick'] # deal with duplicate\n",
    "        if cluster not in unique_users:\n",
    "            unique_users.append(cluster)\n",
    "            follower_in_hour += tweet['author']['followers']\n",
    "        max_followers_in_hour = max( max_followers_in_hour, tweet['author']['followers'])\n",
    "        i+=1\n",
    "        if i==num_tweets:\n",
    "            followers_hours.append(follower_in_hour) #help plot the final part\n",
    "            max_followers_hours.append(max_followers_in_hour)\n",
    "    else:\n",
    "        mark=1 #there is a tweet need to be delt with\n",
    "        followers_hours.append(follower_in_hour)\n",
    "        max_followers_hours.append(max_followers_in_hour)\n",
    "        follower_in_hour=0\n",
    "        max_followers_in_hour=0\n",
    "        unique_users=[]\n",
    "        while mark==1:\n",
    "            mintime = mintime+3600\n",
    "            if tweet_time>=mintime and tweet_time<mintime+3600:\n",
    "                unique_users.append(tweet['author']['nick']) # deal with duplicate\n",
    "                follower_in_hour += tweet['author']['followers']\n",
    "                max_followers_in_hour = max( max_followers_in_hour, tweet['author']['followers'])\n",
    "                mark=0 #this tweet has been delt with\n",
    "            else:\n",
    "                followers_hours.append(0) #help plot the final part\n",
    "                max_followers_hours.append(0)\n",
    "        i+=1\n",
    "        if i==num_tweets:\n",
    "            followers_hours.append(follower_in_hour) #help plot the final part\n",
    "            max_followers_hours.append(max_followers_in_hour)"
   ]
  },
  {
   "cell_type": "code",
   "execution_count": 24,
   "metadata": {
    "collapsed": false
   },
   "outputs": [
    {
     "data": {
      "text/plain": [
       "927"
      ]
     },
     "execution_count": 24,
     "metadata": {},
     "output_type": "execute_result"
    }
   ],
   "source": [
    "len(followers_hours)"
   ]
  },
  {
   "cell_type": "code",
   "execution_count": 25,
   "metadata": {
    "collapsed": false
   },
   "outputs": [
    {
     "data": {
      "text/plain": [
       "927"
      ]
     },
     "execution_count": 25,
     "metadata": {},
     "output_type": "execute_result"
    }
   ],
   "source": [
    "len(max_followers_hours)"
   ]
  },
  {
   "cell_type": "markdown",
   "metadata": {},
   "source": [
    "### time in hours"
   ]
  },
  {
   "cell_type": "code",
   "execution_count": 147,
   "metadata": {
    "collapsed": true
   },
   "outputs": [],
   "source": [
    "time_hours=[];\n",
    "time_now=20;"
   ]
  },
  {
   "cell_type": "code",
   "execution_count": 148,
   "metadata": {
    "collapsed": true
   },
   "outputs": [],
   "source": [
    "start_date = datetime.datetime(2014, 12, 30, 20,0,0)\n",
    "mintime = int(time.mktime(start_date.timetuple()))\n",
    "end_date = datetime.datetime(2015,2,8, 0,0,0)\n",
    "maxtime = int(time.mktime(end_date.timetuple()))"
   ]
  },
  {
   "cell_type": "code",
   "execution_count": 149,
   "metadata": {
    "collapsed": false
   },
   "outputs": [],
   "source": [
    "while maxtime>mintime:\n",
    "    time_hours.append(time_now)\n",
    "    mintime += 3600\n",
    "    time_now+=1\n",
    "    if time_now==24:\n",
    "        time_now=0"
   ]
  },
  {
   "cell_type": "code",
   "execution_count": 150,
   "metadata": {
    "collapsed": false
   },
   "outputs": [
    {
     "data": {
      "text/plain": [
       "940"
      ]
     },
     "execution_count": 150,
     "metadata": {},
     "output_type": "execute_result"
    }
   ],
   "source": [
    "len(time_hours)"
   ]
  },
  {
   "cell_type": "code",
   "execution_count": 151,
   "metadata": {
    "collapsed": false
   },
   "outputs": [],
   "source": [
    "time_hours=time_hours[:927] # to be the same as before"
   ]
  },
  {
   "cell_type": "markdown",
   "metadata": {},
   "source": [
    "### tweets_next_hours"
   ]
  },
  {
   "cell_type": "code",
   "execution_count": 32,
   "metadata": {
    "collapsed": true
   },
   "outputs": [],
   "source": [
    "tweets_next_hours=tweets_hours[1:]"
   ]
  },
  {
   "cell_type": "markdown",
   "metadata": {},
   "source": [
    "### fetures and targets"
   ]
  },
  {
   "cell_type": "code",
   "execution_count": 153,
   "metadata": {
    "collapsed": false
   },
   "outputs": [],
   "source": [
    "target=tweets_next_hours\n",
    "x1=tweets_hours[:-1]\n",
    "x2=retweets_hours[:-1]\n",
    "x3=followers_hours[:-1]\n",
    "x4=max_followers_hours[:-1]\n",
    "x5=time_hours[:-1]"
   ]
  },
  {
   "cell_type": "markdown",
   "metadata": {},
   "source": [
    "### Linear Regression"
   ]
  },
  {
   "cell_type": "code",
   "execution_count": 154,
   "metadata": {
    "collapsed": false
   },
   "outputs": [],
   "source": [
    "import numpy as np"
   ]
  },
  {
   "cell_type": "code",
   "execution_count": 155,
   "metadata": {
    "collapsed": true
   },
   "outputs": [],
   "source": [
    "import statsmodels.api as sm"
   ]
  },
  {
   "cell_type": "code",
   "execution_count": 156,
   "metadata": {
    "collapsed": false
   },
   "outputs": [],
   "source": [
    "x1=np.array(x1)\n",
    "x2=np.array(x2)\n",
    "x3=np.array(x3)\n",
    "x4=np.array(x4)\n",
    "x5=np.array(x5)\n",
    "target=np.array(target)"
   ]
  },
  {
   "cell_type": "code",
   "execution_count": 157,
   "metadata": {
    "collapsed": false
   },
   "outputs": [
    {
     "data": {
      "text/plain": [
       "20"
      ]
     },
     "execution_count": 157,
     "metadata": {},
     "output_type": "execute_result"
    }
   ],
   "source": [
    "x5[360]"
   ]
  },
  {
   "cell_type": "code",
   "execution_count": 158,
   "metadata": {
    "collapsed": false
   },
   "outputs": [
    {
     "data": {
      "text/plain": [
       "(926,)"
      ]
     },
     "execution_count": 158,
     "metadata": {},
     "output_type": "execute_result"
    }
   ],
   "source": [
    "target.shape"
   ]
  },
  {
   "cell_type": "code",
   "execution_count": 159,
   "metadata": {
    "collapsed": true
   },
   "outputs": [],
   "source": [
    "x=[x1,x2,x3,x4,x5]"
   ]
  },
  {
   "cell_type": "code",
   "execution_count": 160,
   "metadata": {
    "collapsed": false
   },
   "outputs": [],
   "source": [
    "x=np.array(x)"
   ]
  },
  {
   "cell_type": "code",
   "execution_count": 161,
   "metadata": {
    "collapsed": false
   },
   "outputs": [
    {
     "data": {
      "text/plain": [
       "(5, 926)"
      ]
     },
     "execution_count": 161,
     "metadata": {},
     "output_type": "execute_result"
    }
   ],
   "source": [
    "x.shape"
   ]
  },
  {
   "cell_type": "code",
   "execution_count": 162,
   "metadata": {
    "collapsed": true
   },
   "outputs": [],
   "source": [
    "x=x.transpose()"
   ]
  },
  {
   "cell_type": "code",
   "execution_count": 163,
   "metadata": {
    "collapsed": true
   },
   "outputs": [],
   "source": [
    "x = sm.add_constant(x)"
   ]
  },
  {
   "cell_type": "code",
   "execution_count": 164,
   "metadata": {
    "collapsed": false
   },
   "outputs": [
    {
     "data": {
      "text/plain": [
       "(926, 6)"
      ]
     },
     "execution_count": 164,
     "metadata": {},
     "output_type": "execute_result"
    }
   ],
   "source": [
    "x.shape"
   ]
  },
  {
   "cell_type": "code",
   "execution_count": 166,
   "metadata": {
    "collapsed": false
   },
   "outputs": [],
   "source": [
    "mod = sm.OLS(target, x)"
   ]
  },
  {
   "cell_type": "code",
   "execution_count": 167,
   "metadata": {
    "collapsed": false
   },
   "outputs": [],
   "source": [
    "res = mod.fit()"
   ]
  },
  {
   "cell_type": "code",
   "execution_count": 168,
   "metadata": {
    "collapsed": false
   },
   "outputs": [
    {
     "name": "stdout",
     "output_type": "stream",
     "text": [
      "                            OLS Regression Results                            \n",
      "==============================================================================\n",
      "Dep. Variable:                      y   R-squared:                       0.604\n",
      "Model:                            OLS   Adj. R-squared:                  0.602\n",
      "Method:                 Least Squares   F-statistic:                     280.8\n",
      "Date:                Tue, 15 Mar 2016   Prob (F-statistic):          2.71e-182\n",
      "Time:                        11:54:49   Log-Likelihood:                -6992.9\n",
      "No. Observations:                 926   AIC:                         1.400e+04\n",
      "Df Residuals:                     920   BIC:                         1.403e+04\n",
      "Df Model:                           5                                         \n",
      "Covariance Type:            nonrobust                                         \n",
      "==============================================================================\n",
      "                 coef    std err          t      P>|t|      [95.0% Conf. Int.]\n",
      "------------------------------------------------------------------------------\n",
      "const         61.4872     29.844      2.060      0.040         2.916   120.058\n",
      "x1             1.3440      0.110     12.218      0.000         1.128     1.560\n",
      "x2            -0.1780      0.065     -2.720      0.007        -0.306    -0.050\n",
      "x3            -0.0001   2.52e-05     -5.672      0.000        -0.000 -9.36e-05\n",
      "x4             0.0002    3.4e-05      5.792      0.000         0.000     0.000\n",
      "x5            -1.2181      2.199     -0.554      0.580        -5.533     3.097\n",
      "==============================================================================\n",
      "Omnibus:                     1042.613   Durbin-Watson:                   2.161\n",
      "Prob(Omnibus):                  0.000   Jarque-Bera (JB):          1259322.696\n",
      "Skew:                           4.439   Prob(JB):                         0.00\n",
      "Kurtosis:                     183.444   Cond. No.                     5.44e+06\n",
      "==============================================================================\n",
      "\n",
      "Warnings:\n",
      "[1] Standard Errors assume that the covariance matrix of the errors is correctly specified.\n",
      "[2] The condition number is large, 5.44e+06. This might indicate that there are\n",
      "strong multicollinearity or other numerical problems.\n"
     ]
    }
   ],
   "source": [
    "print (res.summary())"
   ]
  },
  {
   "cell_type": "code",
   "execution_count": 169,
   "metadata": {
    "collapsed": false
   },
   "outputs": [
    {
     "data": {
      "text/plain": [
       "array([  3.96542072e-02,   6.38534763e-32,   6.65720736e-03,\n",
       "         1.89115073e-08,   9.52374673e-09,   5.79702338e-01])"
      ]
     },
     "execution_count": 169,
     "metadata": {},
     "output_type": "execute_result"
    }
   ],
   "source": [
    "res.pvalues"
   ]
  },
  {
   "cell_type": "code",
   "execution_count": 170,
   "metadata": {
    "collapsed": true
   },
   "outputs": [],
   "source": [
    "target_predict=res.predict(x)"
   ]
  },
  {
   "cell_type": "code",
   "execution_count": 171,
   "metadata": {
    "collapsed": true
   },
   "outputs": [],
   "source": [
    "error=abs(target_predict-target)"
   ]
  },
  {
   "cell_type": "code",
   "execution_count": 172,
   "metadata": {
    "collapsed": false
   },
   "outputs": [
    {
     "data": {
      "text/plain": [
       "131.75455442890672"
      ]
     },
     "execution_count": 172,
     "metadata": {},
     "output_type": "execute_result"
    }
   ],
   "source": [
    "np.mean(error)"
   ]
  },
  {
   "cell_type": "markdown",
   "metadata": {
    "collapsed": true
   },
   "source": [
    "### Problem 3"
   ]
  },
  {
   "cell_type": "markdown",
   "metadata": {},
   "source": [
    "### #of mentioned_users per hour"
   ]
  },
  {
   "cell_type": "code",
   "execution_count": 49,
   "metadata": {
    "collapsed": false
   },
   "outputs": [],
   "source": [
    "start_date = datetime.datetime(2014, 12, 30, 20,0,0)\n",
    "mintime = int(time.mktime(start_date.timetuple()))\n",
    "end_date = datetime.datetime(2015,2,8, 0,0,0)\n",
    "maxtime = int(time.mktime(end_date.timetuple()))"
   ]
  },
  {
   "cell_type": "code",
   "execution_count": 50,
   "metadata": {
    "collapsed": true
   },
   "outputs": [],
   "source": [
    "mentions_hours=[]\n",
    "mention_in_hour=0\n",
    "i=0"
   ]
  },
  {
   "cell_type": "code",
   "execution_count": 51,
   "metadata": {
    "collapsed": false
   },
   "outputs": [],
   "source": [
    "while i<num_tweets:\n",
    "    tweet=tweets[i]\n",
    "    tweet_time = tweet['firstpost_date']\n",
    "    if tweet_time>=mintime and tweet_time<mintime+3600:\n",
    "        mention_in_hour += len(tweet['tweet']['entities']['user_mentions'])\n",
    "        i+=1\n",
    "        if i==num_tweets:\n",
    "            mentions_hours.append(mention_in_hour) #help plot the final part\n",
    "    else:\n",
    "        mark=1 # there is a tweet we have to deal with\n",
    "        mentions_hours.append(mention_in_hour)\n",
    "        mention_in_hour=0\n",
    "        while mark==1:\n",
    "            mintime = mintime+3600\n",
    "            if tweet_time>=mintime and tweet_time<mintime+3600:\n",
    "                mention_in_hour += len(tweet['tweet']['entities']['user_mentions'])\n",
    "                mark=0 # the tweet has been delt with\n",
    "            else:\n",
    "                mentions_hours.append(0)\n",
    "        i+=1\n",
    "        if i==num_tweets:\n",
    "            mentions_hours.append(mention_in_hour) #help plot the final part"
   ]
  },
  {
   "cell_type": "code",
   "execution_count": 52,
   "metadata": {
    "collapsed": false
   },
   "outputs": [
    {
     "data": {
      "text/plain": [
       "927"
      ]
     },
     "execution_count": 52,
     "metadata": {},
     "output_type": "execute_result"
    }
   ],
   "source": [
    "len(mentions_hours)"
   ]
  },
  {
   "cell_type": "markdown",
   "metadata": {},
   "source": [
    "### #of hashtags per hour"
   ]
  },
  {
   "cell_type": "code",
   "execution_count": 67,
   "metadata": {
    "collapsed": true
   },
   "outputs": [],
   "source": [
    "start_date = datetime.datetime(2014, 12, 30, 20,0,0)\n",
    "mintime = int(time.mktime(start_date.timetuple()))\n",
    "end_date = datetime.datetime(2015,2,8, 0,0,0)\n",
    "maxtime = int(time.mktime(end_date.timetuple()))"
   ]
  },
  {
   "cell_type": "code",
   "execution_count": 68,
   "metadata": {
    "collapsed": true
   },
   "outputs": [],
   "source": [
    "hashtags_hours=[]\n",
    "hashtag_in_hour=0\n",
    "i=0"
   ]
  },
  {
   "cell_type": "code",
   "execution_count": 69,
   "metadata": {
    "collapsed": true
   },
   "outputs": [],
   "source": [
    "while i<num_tweets:\n",
    "    tweet=tweets[i]\n",
    "    tweet_time = tweet['firstpost_date']\n",
    "    if tweet_time>=mintime and tweet_time<mintime+3600:\n",
    "        hashtag_in_hour += (len(tweet['tweet']['entities']['hashtags'])-1)\n",
    "        i+=1\n",
    "        if i==num_tweets:\n",
    "            hashtags_hours.append(hashtag_in_hour) #help plot the final part\n",
    "    else:\n",
    "        mark=1 # there is a tweet we need to deal with\n",
    "        hashtags_hours.append(hashtag_in_hour)\n",
    "        hashtag_in_hour=0\n",
    "        while mark==1:\n",
    "            mintime = mintime+3600\n",
    "            if tweet_time>=mintime and tweet_time<mintime+3600:\n",
    "                hashtag_in_hour += (len(tweet['tweet']['entities']['hashtags'])-1)#we have to delet itself\n",
    "                mark=0;\n",
    "            else:\n",
    "                hashtags_hours.append(0)\n",
    "        i+=1\n",
    "        if i==num_tweets:\n",
    "            hashtags_hours.append(hashtag_in_hour) #help plot the final part"
   ]
  },
  {
   "cell_type": "code",
   "execution_count": 70,
   "metadata": {
    "collapsed": false
   },
   "outputs": [
    {
     "data": {
      "text/plain": [
       "927"
      ]
     },
     "execution_count": 70,
     "metadata": {},
     "output_type": "execute_result"
    }
   ],
   "source": [
    "len(hashtags_hours)"
   ]
  },
  {
   "cell_type": "markdown",
   "metadata": {},
   "source": [
    "### #of favorites per hour"
   ]
  },
  {
   "cell_type": "code",
   "execution_count": 63,
   "metadata": {
    "collapsed": true
   },
   "outputs": [],
   "source": [
    "start_date = datetime.datetime(2014, 12, 30, 20,0,0)\n",
    "mintime = int(time.mktime(start_date.timetuple()))\n",
    "end_date = datetime.datetime(2015,2,8, 0,0,0)\n",
    "maxtime = int(time.mktime(end_date.timetuple()))"
   ]
  },
  {
   "cell_type": "code",
   "execution_count": 64,
   "metadata": {
    "collapsed": true
   },
   "outputs": [],
   "source": [
    "favorites_hours=[]\n",
    "favorite_in_hour=0\n",
    "i=0"
   ]
  },
  {
   "cell_type": "code",
   "execution_count": 65,
   "metadata": {
    "collapsed": true
   },
   "outputs": [],
   "source": [
    "while i<num_tweets:\n",
    "    tweet=tweets[i]\n",
    "    tweet_time = tweet['firstpost_date']\n",
    "    if tweet_time>=mintime and tweet_time<mintime+3600:\n",
    "        favorite_in_hour += tweet['tweet']['favorite_count']\n",
    "        i+=1\n",
    "        if i==num_tweets:\n",
    "            favorites_hours.append(favorite_in_hour) #help plot the final part\n",
    "    else:\n",
    "        mark=1 # there is a tweet need to be delt with\n",
    "        favorites_hours.append(favorite_in_hour)\n",
    "        favorite_in_hour=0\n",
    "        while mark==1:\n",
    "            mintime = mintime+3600\n",
    "            if tweet_time>=mintime and tweet_time<mintime+3600:\n",
    "                favorite_in_hour += tweet['tweet']['favorite_count']\n",
    "                mark=0 # this tweet have been handled\n",
    "            else:\n",
    "                favorites_hours.append(0)\n",
    "        i+=1\n",
    "        if i==num_tweets:\n",
    "            favorites_hours.append(favorite_in_hour) #help plot the final part"
   ]
  },
  {
   "cell_type": "code",
   "execution_count": 66,
   "metadata": {
    "collapsed": false
   },
   "outputs": [
    {
     "data": {
      "text/plain": [
       "927"
      ]
     },
     "execution_count": 66,
     "metadata": {},
     "output_type": "execute_result"
    }
   ],
   "source": [
    "len(favorites_hours)"
   ]
  },
  {
   "cell_type": "markdown",
   "metadata": {},
   "source": [
    "### new features"
   ]
  },
  {
   "cell_type": "code",
   "execution_count": null,
   "metadata": {
    "collapsed": true
   },
   "outputs": [],
   "source": [
    "x6=mentions_hours[:-1]\n",
    "x7=hashtags_hours[:-1]\n",
    "x8=favorites_hours[:-1]\n",
    "x6=np.array(x6)\n",
    "x7=np.array(x7)\n",
    "x8=np.array(x8)"
   ]
  },
  {
   "cell_type": "code",
   "execution_count": 174,
   "metadata": {
    "collapsed": true
   },
   "outputs": [],
   "source": [
    "xnew=[x1,x2,x3,x4,x5]"
   ]
  },
  {
   "cell_type": "code",
   "execution_count": 175,
   "metadata": {
    "collapsed": true
   },
   "outputs": [],
   "source": [
    "xnew=np.array(xnew)"
   ]
  },
  {
   "cell_type": "code",
   "execution_count": 176,
   "metadata": {
    "collapsed": true
   },
   "outputs": [],
   "source": [
    "xnew=xnew.transpose()"
   ]
  },
  {
   "cell_type": "code",
   "execution_count": 177,
   "metadata": {
    "collapsed": false
   },
   "outputs": [
    {
     "data": {
      "text/plain": [
       "(926, 5)"
      ]
     },
     "execution_count": 177,
     "metadata": {},
     "output_type": "execute_result"
    }
   ],
   "source": [
    "xnew.shape"
   ]
  },
  {
   "cell_type": "code",
   "execution_count": 178,
   "metadata": {
    "collapsed": true
   },
   "outputs": [],
   "source": [
    "xnew=sm.add_constant(xnew)"
   ]
  },
  {
   "cell_type": "code",
   "execution_count": 179,
   "metadata": {
    "collapsed": false
   },
   "outputs": [
    {
     "name": "stdout",
     "output_type": "stream",
     "text": [
      "                            OLS Regression Results                            \n",
      "==============================================================================\n",
      "Dep. Variable:                      y   R-squared:                       0.604\n",
      "Model:                            OLS   Adj. R-squared:                  0.602\n",
      "Method:                 Least Squares   F-statistic:                     280.8\n",
      "Date:                Tue, 15 Mar 2016   Prob (F-statistic):          2.71e-182\n",
      "Time:                        11:55:14   Log-Likelihood:                -6992.9\n",
      "No. Observations:                 926   AIC:                         1.400e+04\n",
      "Df Residuals:                     920   BIC:                         1.403e+04\n",
      "Df Model:                           5                                         \n",
      "Covariance Type:            nonrobust                                         \n",
      "==============================================================================\n",
      "                 coef    std err          t      P>|t|      [95.0% Conf. Int.]\n",
      "------------------------------------------------------------------------------\n",
      "const         61.4872     29.844      2.060      0.040         2.916   120.058\n",
      "x1             1.3440      0.110     12.218      0.000         1.128     1.560\n",
      "x2            -0.1780      0.065     -2.720      0.007        -0.306    -0.050\n",
      "x3            -0.0001   2.52e-05     -5.672      0.000        -0.000 -9.36e-05\n",
      "x4             0.0002    3.4e-05      5.792      0.000         0.000     0.000\n",
      "x5            -1.2181      2.199     -0.554      0.580        -5.533     3.097\n",
      "==============================================================================\n",
      "Omnibus:                     1042.613   Durbin-Watson:                   2.161\n",
      "Prob(Omnibus):                  0.000   Jarque-Bera (JB):          1259322.696\n",
      "Skew:                           4.439   Prob(JB):                         0.00\n",
      "Kurtosis:                     183.444   Cond. No.                     5.44e+06\n",
      "==============================================================================\n",
      "\n",
      "Warnings:\n",
      "[1] Standard Errors assume that the covariance matrix of the errors is correctly specified.\n",
      "[2] The condition number is large, 5.44e+06. This might indicate that there are\n",
      "strong multicollinearity or other numerical problems.\n"
     ]
    }
   ],
   "source": [
    "modnew = sm.OLS(target, xnew)\n",
    "resnew = modnew.fit()\n",
    "print (resnew.summary())"
   ]
  },
  {
   "cell_type": "code",
   "execution_count": 180,
   "metadata": {
    "collapsed": false
   },
   "outputs": [
    {
     "data": {
      "text/plain": [
       "array([  3.96542072e-02,   6.38534763e-32,   6.65720736e-03,\n",
       "         1.89115073e-08,   9.52374673e-09,   5.79702338e-01])"
      ]
     },
     "execution_count": 180,
     "metadata": {},
     "output_type": "execute_result"
    }
   ],
   "source": [
    "resnew.pvalues"
   ]
  },
  {
   "cell_type": "code",
   "execution_count": 181,
   "metadata": {
    "collapsed": false
   },
   "outputs": [],
   "source": [
    "import matplotlib.pyplot as plt"
   ]
  },
  {
   "cell_type": "code",
   "execution_count": 62,
   "metadata": {
    "collapsed": false
   },
   "outputs": [
    {
     "data": {
      "text/plain": [
       "<matplotlib.collections.PathCollection at 0x28b587278>"
      ]
     },
     "execution_count": 62,
     "metadata": {},
     "output_type": "execute_result"
    }
   ],
   "source": [
    "plt.scatter(x3,target,color='blue') # just take x6 as an example"
   ]
  },
  {
   "cell_type": "code",
   "execution_count": 63,
   "metadata": {
    "collapsed": false
   },
   "outputs": [
    {
     "data": {
      "text/plain": [
       "<matplotlib.text.Text at 0x2888d7940>"
      ]
     },
     "execution_count": 63,
     "metadata": {},
     "output_type": "execute_result"
    }
   ],
   "source": [
    "plt.title(\"XXX versus XXX\")\n",
    "plt.xlabel(\"feature\")\n",
    "plt.ylabel(\"predictant\")"
   ]
  },
  {
   "cell_type": "code",
   "execution_count": 64,
   "metadata": {
    "collapsed": true
   },
   "outputs": [],
   "source": [
    "plt.show()"
   ]
  },
  {
   "cell_type": "code",
   "execution_count": 65,
   "metadata": {
    "collapsed": false
   },
   "outputs": [
    {
     "data": {
      "text/plain": [
       "131.42832708602515"
      ]
     },
     "execution_count": 65,
     "metadata": {},
     "output_type": "execute_result"
    }
   ],
   "source": [
    "sum(abs(resnew.predict(xnew)-target))/len(target)"
   ]
  },
  {
   "cell_type": "markdown",
   "metadata": {},
   "source": [
    "### Problem4"
   ]
  },
  {
   "cell_type": "code",
   "execution_count": 182,
   "metadata": {
    "collapsed": false
   },
   "outputs": [],
   "source": [
    "play_start_date = datetime.datetime(2015,2,1, 8,0,0)\n",
    "play_end_date = datetime.datetime(2015,2,1, 20,0,0)\n",
    "playmintime = int(time.mktime(play_start_date.timetuple()))\n",
    "playmaxtime = int(time.mktime(play_end_date.timetuple()))"
   ]
  },
  {
   "cell_type": "code",
   "execution_count": 183,
   "metadata": {
    "collapsed": false
   },
   "outputs": [
    {
     "data": {
      "text/plain": [
       "time.struct_time(tm_year=2015, tm_mon=2, tm_mday=1, tm_hour=8, tm_min=0, tm_sec=0, tm_wday=6, tm_yday=32, tm_isdst=0)"
      ]
     },
     "execution_count": 183,
     "metadata": {},
     "output_type": "execute_result"
    }
   ],
   "source": [
    "time.localtime(playmintime)"
   ]
  },
  {
   "cell_type": "code",
   "execution_count": 184,
   "metadata": {
    "collapsed": true
   },
   "outputs": [],
   "source": [
    "start_date = datetime.datetime(2014, 12, 30, 20,0,0)\n",
    "mintime = int(time.mktime(start_date.timetuple()))\n",
    "end_date = datetime.datetime(2015,2,8, 0,0,0)\n",
    "maxtime = int(time.mktime(end_date.timetuple()))"
   ]
  },
  {
   "cell_type": "code",
   "execution_count": 185,
   "metadata": {
    "collapsed": false
   },
   "outputs": [
    {
     "data": {
      "text/plain": [
       "time.struct_time(tm_year=2014, tm_mon=12, tm_mday=30, tm_hour=20, tm_min=0, tm_sec=0, tm_wday=1, tm_yday=364, tm_isdst=0)"
      ]
     },
     "execution_count": 185,
     "metadata": {},
     "output_type": "execute_result"
    }
   ],
   "source": [
    "time.localtime(mintime)"
   ]
  },
  {
   "cell_type": "code",
   "execution_count": 186,
   "metadata": {
    "collapsed": false
   },
   "outputs": [],
   "source": [
    "index_start=(playmintime-mintime)/3600 \n",
    "index_end=(playmaxtime-mintime)/3600 #because [index_start:index_end] will include the first one but not include the last one"
   ]
  },
  {
   "cell_type": "code",
   "execution_count": 205,
   "metadata": {
    "collapsed": false
   },
   "outputs": [],
   "source": [
    "before_game=xnew[:index_start]\n",
    "before_game_target=target[:index_start]"
   ]
  },
  {
   "cell_type": "code",
   "execution_count": 193,
   "metadata": {
    "collapsed": false
   },
   "outputs": [
    {
     "data": {
      "text/plain": [
       "(780, 6)"
      ]
     },
     "execution_count": 193,
     "metadata": {},
     "output_type": "execute_result"
    }
   ],
   "source": [
    "before_game.shape"
   ]
  },
  {
   "cell_type": "code",
   "execution_count": 194,
   "metadata": {
    "collapsed": false
   },
   "outputs": [
    {
     "data": {
      "text/plain": [
       "780"
      ]
     },
     "execution_count": 194,
     "metadata": {},
     "output_type": "execute_result"
    }
   ],
   "source": [
    "len(before_game_target)"
   ]
  },
  {
   "cell_type": "code",
   "execution_count": 195,
   "metadata": {
    "collapsed": false
   },
   "outputs": [],
   "source": [
    "between_game=xnew[index_start:index_end] #include the first one but not include the last one\n",
    "between_game_target=target[index_start:index_end]"
   ]
  },
  {
   "cell_type": "code",
   "execution_count": 197,
   "metadata": {
    "collapsed": false
   },
   "outputs": [
    {
     "data": {
      "text/plain": [
       "(12, 6)"
      ]
     },
     "execution_count": 197,
     "metadata": {},
     "output_type": "execute_result"
    }
   ],
   "source": [
    "between_game.shape"
   ]
  },
  {
   "cell_type": "code",
   "execution_count": 198,
   "metadata": {
    "collapsed": false
   },
   "outputs": [
    {
     "data": {
      "text/plain": [
       "12"
      ]
     },
     "execution_count": 198,
     "metadata": {},
     "output_type": "execute_result"
    }
   ],
   "source": [
    "len(between_game_target)"
   ]
  },
  {
   "cell_type": "code",
   "execution_count": 206,
   "metadata": {
    "collapsed": false
   },
   "outputs": [
    {
     "data": {
      "text/plain": [
       "array([ 1554,   891,   916,  1129,  1188,  1994,  9452,  7957,  8546,\n",
       "        6726, 10899,   540])"
      ]
     },
     "execution_count": 206,
     "metadata": {},
     "output_type": "execute_result"
    }
   ],
   "source": [
    "between_game_target"
   ]
  },
  {
   "cell_type": "code",
   "execution_count": 75,
   "metadata": {
    "collapsed": false
   },
   "outputs": [
    {
     "name": "stderr",
     "output_type": "stream",
     "text": [
      "/Users/Xin/anaconda/lib/python3.5/site-packages/ipykernel/__main__.py:1: DeprecationWarning: using a non-integer number instead of an integer will result in an error in the future\n",
      "  if __name__ == '__main__':\n",
      "/Users/Xin/anaconda/lib/python3.5/site-packages/ipykernel/__main__.py:2: DeprecationWarning: using a non-integer number instead of an integer will result in an error in the future\n",
      "  from ipykernel import kernelapp as app\n"
     ]
    }
   ],
   "source": [
    "after_game=xnew[index_end:]\n",
    "after_game_target=target[index_end:]"
   ]
  },
  {
   "cell_type": "code",
   "execution_count": 76,
   "metadata": {
    "collapsed": false
   },
   "outputs": [
    {
     "data": {
      "text/plain": [
       "(134, 6)"
      ]
     },
     "execution_count": 76,
     "metadata": {},
     "output_type": "execute_result"
    }
   ],
   "source": [
    "after_game.shape"
   ]
  },
  {
   "cell_type": "code",
   "execution_count": 77,
   "metadata": {
    "collapsed": false
   },
   "outputs": [
    {
     "data": {
      "text/plain": [
       "134"
      ]
     },
     "execution_count": 77,
     "metadata": {},
     "output_type": "execute_result"
    }
   ],
   "source": [
    "len(after_game_target)"
   ]
  },
  {
   "cell_type": "markdown",
   "metadata": {},
   "source": [
    "### 10-fold and test"
   ]
  },
  {
   "cell_type": "code",
   "execution_count": 78,
   "metadata": {
    "collapsed": true
   },
   "outputs": [],
   "source": [
    "from sklearn.cross_validation import KFold"
   ]
  },
  {
   "cell_type": "code",
   "execution_count": null,
   "metadata": {
    "collapsed": true
   },
   "outputs": [],
   "source": [
    "#indexs=np.array(range(len(target)))\n",
    "#np.random.shuffle(indexes)\n",
    "#kf_before = KFold(len(before_game_target), n_folds=10)\n",
    "#for train, test in kf_before:\n",
    "#    trainIds=indexs[train]\n",
    "#    testIds=indexs[test]\n",
    "#    modfold_before = sm.OLS(before_game_target[trainIds] ,before_game[trainIds])\n",
    "#    resfold_before = modfold_before.fit()\n",
    "#    pred=resfold_before.predict(before_game[testIds])\n",
    "#    accuracys +=np.mean(np.absolute(pred-before_game_target[testIds]))\n",
    "#print accuracys/10"
   ]
  },
  {
   "cell_type": "code",
   "execution_count": 85,
   "metadata": {
    "collapsed": false
   },
   "outputs": [],
   "source": [
    "error_before=[]\n",
    "kf_before = KFold(len(before_game_target), n_folds=10,shuffle=False, random_state=None)\n",
    "for train_index, test_index in kf_before:\n",
    "    X_train, X_test = before_game[train_index], before_game[test_index]\n",
    "    y_train, y_test = before_game_target[train_index], before_game_target[test_index] \n",
    "    #code that to train the model and test the model\n",
    "    modfold_before = sm.OLS(y_train, X_train)\n",
    "    resfold_before = modfold_before.fit()\n",
    "    y_predict = resfold_before.predict(X_test)\n",
    "    sum(abs(y_test-y_predict))/len(y_test-y_predict)\n",
    "    error_before.append(sum(abs(y_test-y_predict))/len(y_test-y_predict))\n",
    "error_before_avg=np.mean(error_before)"
   ]
  },
  {
   "cell_type": "code",
   "execution_count": 86,
   "metadata": {
    "collapsed": false
   },
   "outputs": [
    {
     "data": {
      "text/plain": [
       "85.773215213232305"
      ]
     },
     "execution_count": 86,
     "metadata": {},
     "output_type": "execute_result"
    }
   ],
   "source": [
    "error_before_avg"
   ]
  },
  {
   "cell_type": "code",
   "execution_count": 200,
   "metadata": {
    "collapsed": false
   },
   "outputs": [],
   "source": [
    "error_between=[]\n",
    "test_y=[]\n",
    "predict_y=[]\n",
    "kf_between = KFold(len(between_game_target), n_folds=10,shuffle=False, random_state=None)\n",
    "for train_index, test_index in kf_between:\n",
    "    X_train, X_test = between_game[train_index], between_game[test_index]\n",
    "    y_train, y_test = between_game_target[train_index], between_game_target[test_index]\n",
    "    #code that to train the model and test the model\n",
    "    modfold_between = sm.OLS(y_train, X_train)\n",
    "    resfold_between = modfold_between.fit()\n",
    "    y_predict = resfold_between.predict(X_test)\n",
    "    predict_y.append(y_predict)\n",
    "    test_y.append(y_test)\n",
    "    error_between_unit=sum(abs(y_test-y_predict))/len(y_test-y_predict)\n",
    "    error_between.append(error_between_unit)\n",
    "error_between_avg=np.mean(error_between)"
   ]
  },
  {
   "cell_type": "code",
   "execution_count": 199,
   "metadata": {
    "collapsed": false
   },
   "outputs": [
    {
     "name": "stdout",
     "output_type": "stream",
     "text": [
      "3564.46651822\n"
     ]
    }
   ],
   "source": [
    "#accuracys=0.0\n",
    "#indexs=np.array(range(len(between_game_target)))\n",
    "#np.random.shuffle(indexs)\n",
    "#kf_before = KFold(len(between_game_target), n_folds=10)\n",
    "#for train, test in kf_before:\n",
    "#    trainIds=indexs[train]\n",
    "#    testIds=indexs[test]\n",
    "#    modfold_between = sm.OLS(between_game_target[trainIds] ,between_game[trainIds])\n",
    "#    resfold_between = modfold_between.fit()\n",
    "#    pred=resfold_between.predict(between_game[testIds])\n",
    "#    accuracys +=np.mean(np.absolute(pred-between_game_target[testIds]))\n",
    "#print (accuracys/10)"
   ]
  },
  {
   "cell_type": "code",
   "execution_count": 203,
   "metadata": {
    "collapsed": false
   },
   "outputs": [
    {
     "data": {
      "text/plain": [
       "3871.6258958706103"
      ]
     },
     "execution_count": 203,
     "metadata": {},
     "output_type": "execute_result"
    }
   ],
   "source": [
    "error_between_avg"
   ]
  },
  {
   "cell_type": "code",
   "execution_count": 83,
   "metadata": {
    "collapsed": false
   },
   "outputs": [],
   "source": [
    "error_after=[]\n",
    "kf_after = KFold(len(after_game_target), n_folds=10,shuffle=False, random_state=None)\n",
    "for train_index, test_index in kf_after:\n",
    "    X_train, X_test = after_game[train_index], after_game[test_index]\n",
    "    y_train, y_test = after_game_target[train_index], after_game_target[test_index]\n",
    "    #code that to train the model and test the model\n",
    "    modfold = sm.OLS(y_train, X_train)\n",
    "    resfold = modfold.fit()\n",
    "    y_predict = resfold.predict(X_test)\n",
    "    sum(abs(y_test-y_predict))/len(y_test-y_predict)\n",
    "    error_after.append(sum(abs(y_test-y_predict))/len(y_test-y_predict))\n",
    "error_after_avg=np.mean(error_after)"
   ]
  },
  {
   "cell_type": "code",
   "execution_count": 84,
   "metadata": {
    "collapsed": false
   },
   "outputs": [
    {
     "data": {
      "text/plain": [
       "114.96848810302853"
      ]
     },
     "execution_count": 84,
     "metadata": {},
     "output_type": "execute_result"
    }
   ],
   "source": [
    "error_after_avg"
   ]
  }
 ],
 "metadata": {
  "kernelspec": {
   "display_name": "Python 3",
   "language": "python",
   "name": "python3"
  },
  "language_info": {
   "codemirror_mode": {
    "name": "ipython",
    "version": 3
   },
   "file_extension": ".py",
   "mimetype": "text/x-python",
   "name": "python",
   "nbconvert_exporter": "python",
   "pygments_lexer": "ipython3",
   "version": "3.5.1"
  }
 },
 "nbformat": 4,
 "nbformat_minor": 0
}
