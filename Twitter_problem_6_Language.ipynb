{
 "cells": [
  {
   "cell_type": "code",
   "execution_count": 2,
   "metadata": {
    "collapsed": true
   },
   "outputs": [],
   "source": [
    "import json\n",
    "import datetime, time"
   ]
  },
  {
   "cell_type": "code",
   "execution_count": 3,
   "metadata": {
    "collapsed": true
   },
   "outputs": [],
   "source": [
    "D={}"
   ]
  },
  {
   "cell_type": "code",
   "execution_count": 6,
   "metadata": {
    "collapsed": false
   },
   "outputs": [],
   "source": [
    "f = open('tweets_#superbowl.txt')\n",
    "line = f.readline()\n",
    "while len(line)!=0:\n",
    "    tweet=json.loads(line)\n",
    "    if tweet['tweet']['lang']!='und':\n",
    "        if tweet['tweet']['lang'] not in D:\n",
    "            D[tweet['tweet']['lang']]=0\n",
    "        D[tweet['tweet']['lang']]+=1\n",
    "    line = f.readline()"
   ]
  },
  {
   "cell_type": "code",
   "execution_count": 8,
   "metadata": {
    "collapsed": true
   },
   "outputs": [],
   "source": [
    "import operator\n",
    "sorted_D = sorted(D.items(), key=operator.itemgetter(1))"
   ]
  },
  {
   "cell_type": "code",
   "execution_count": 10,
   "metadata": {
    "collapsed": false
   },
   "outputs": [],
   "source": [
    "sorted_D.reverse()"
   ]
  },
  {
   "cell_type": "code",
   "execution_count": 11,
   "metadata": {
    "collapsed": true
   },
   "outputs": [
    {
     "data": {
      "text/plain": [
       "[('en', 1055174),\n",
       " ('es', 139273),\n",
       " ('fr', 20463),\n",
       " ('pt', 18607),\n",
       " ('de', 11330),\n",
       " ('it', 4850),\n",
       " ('tl', 3790),\n",
       " ('ht', 2804),\n",
       " ('ja', 2769),\n",
       " ('in', 2604),\n",
       " ('nl', 2089),\n",
       " ('lv', 1671),\n",
       " ('pl', 1582),\n",
       " ('tr', 1498),\n",
       " ('et', 1392),\n",
       " ('fi', 1159),\n",
       " ('sv', 1096),\n",
       " ('sk', 800),\n",
       " ('sl', 750),\n",
       " ('da', 652),\n",
       " ('no', 600),\n",
       " ('cy', 595),\n",
       " ('hu', 495),\n",
       " ('ru', 439),\n",
       " ('ro', 334),\n",
       " ('th', 286),\n",
       " ('lt', 243),\n",
       " ('ar', 230),\n",
       " ('bs', 212),\n",
       " ('is', 206),\n",
       " ('el', 132),\n",
       " ('hr', 99),\n",
       " ('vi', 71),\n",
       " ('ko', 70),\n",
       " ('bg', 52),\n",
       " ('zh', 40),\n",
       " ('uk', 23),\n",
       " ('iw', 19),\n",
       " ('fa', 13),\n",
       " ('sr', 11),\n",
       " ('iu', 4),\n",
       " ('ur', 3),\n",
       " ('ne', 2),\n",
       " ('chr', 2),\n",
       " ('ta', 2),\n",
       " ('hi', 2),\n",
       " ('te', 1),\n",
       " ('my', 1)]"
      ]
     },
     "execution_count": 11,
     "metadata": {},
     "output_type": "execute_result"
    }
   ],
   "source": [
    "sorted_D"
   ]
  },
  {
   "cell_type": "code",
   "execution_count": 12,
   "metadata": {
    "collapsed": true
   },
   "outputs": [],
   "source": [
    "inall=0\n",
    "for i in sorted_D:\n",
    "    inall+=i[1]"
   ]
  },
  {
   "cell_type": "code",
   "execution_count": 13,
   "metadata": {
    "collapsed": false
   },
   "outputs": [
    {
     "data": {
      "text/plain": [
       "1278540"
      ]
     },
     "execution_count": 13,
     "metadata": {},
     "output_type": "execute_result"
    }
   ],
   "source": [
    "inall"
   ]
  },
  {
   "cell_type": "markdown",
   "metadata": {},
   "source": [
    "### This is the main python code in part 6. More work is done by other analyse software"
   ]
  }
 ],
 "metadata": {
  "kernelspec": {
   "display_name": "Python 3",
   "language": "python",
   "name": "python3"
  },
  "language_info": {
   "codemirror_mode": {
    "name": "ipython",
    "version": 3
   },
   "file_extension": ".py",
   "mimetype": "text/x-python",
   "name": "python",
   "nbconvert_exporter": "python",
   "pygments_lexer": "ipython3",
   "version": "3.5.1"
  }
 },
 "nbformat": 4,
 "nbformat_minor": 0
}
