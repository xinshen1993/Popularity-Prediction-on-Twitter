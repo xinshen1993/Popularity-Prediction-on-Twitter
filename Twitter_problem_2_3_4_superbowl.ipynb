{
 "cells": [
  {
   "cell_type": "code",
   "execution_count": 2,
   "metadata": {
    "collapsed": true
   },
   "outputs": [],
   "source": [
    "import json\n",
    "import datetime, time"
   ]
  },
  {
   "cell_type": "code",
   "execution_count": 3,
   "metadata": {
    "collapsed": false
   },
   "outputs": [
    {
     "data": {
      "text/plain": [
       "time.struct_time(tm_year=2014, tm_mon=12, tm_mday=29, tm_hour=7, tm_min=27, tm_sec=13, tm_wday=0, tm_yday=363, tm_isdst=0)"
      ]
     },
     "execution_count": 3,
     "metadata": {},
     "output_type": "execute_result"
    }
   ],
   "source": [
    "time.localtime(1419866833)"
   ]
  },
  {
   "cell_type": "code",
   "execution_count": 5,
   "metadata": {
    "collapsed": false
   },
   "outputs": [
    {
     "data": {
      "text/plain": [
       "time.struct_time(tm_year=2015, tm_mon=2, tm_mday=7, tm_hour=10, tm_min=55, tm_sec=36, tm_wday=5, tm_yday=38, tm_isdst=0)"
      ]
     },
     "execution_count": 5,
     "metadata": {},
     "output_type": "execute_result"
    }
   ],
   "source": [
    "time.localtime(1423335336)"
   ]
  },
  {
   "cell_type": "markdown",
   "metadata": {},
   "source": [
    "### #of tweets per hour"
   ]
  },
  {
   "cell_type": "code",
   "execution_count": 6,
   "metadata": {
    "collapsed": false
   },
   "outputs": [],
   "source": [
    "start_date = datetime.datetime(2014, 12, 29, 7,0,0) #this is the time nfl start\n",
    "mintime = int(time.mktime(start_date.timetuple()))\n",
    "end_date = datetime.datetime(2015,2,8, 0,0,0)\n",
    "maxtime = int(time.mktime(end_date.timetuple()))"
   ]
  },
  {
   "cell_type": "code",
   "execution_count": 7,
   "metadata": {
    "collapsed": true
   },
   "outputs": [],
   "source": [
    "tweets_hours=[];\n",
    "tweet_in_hour=0;"
   ]
  },
  {
   "cell_type": "code",
   "execution_count": 8,
   "metadata": {
    "collapsed": true
   },
   "outputs": [],
   "source": [
    "f = open('tweets_#superbowl.txt')\n",
    "line = f.readline()"
   ]
  },
  {
   "cell_type": "code",
   "execution_count": 9,
   "metadata": {
    "collapsed": false
   },
   "outputs": [],
   "source": [
    "while len(line)!=0:\n",
    "    tweet = json.loads(line)\n",
    "    tweet_time = tweet['firstpost_date']\n",
    "    if tweet_time>=mintime and tweet_time<mintime+3600:\n",
    "        tweet_in_hour +=1\n",
    "        line = f.readline()\n",
    "        if len(line)==0:\n",
    "            tweets_hours.append(tweet_in_hour) #help plot the final part\n",
    "    else:\n",
    "        mark=1 # there is a tweet need to be delt with\n",
    "        tweets_hours.append(tweet_in_hour)\n",
    "        tweet_in_hour=0\n",
    "        while mark==1:\n",
    "            mintime = mintime+3600\n",
    "            if tweet_time>=mintime and tweet_time<mintime+3600:\n",
    "                tweet_in_hour +=1\n",
    "                mark=0 #this tweet has been delt with\n",
    "            else:\n",
    "                tweets_hours.append(0)\n",
    "        line = f.readline()\n",
    "        if len(line)==0:\n",
    "            tweets_hours.append(tweet_in_hour) #help plot the final part\n",
    "f.close()"
   ]
  },
  {
   "cell_type": "code",
   "execution_count": 10,
   "metadata": {
    "collapsed": false
   },
   "outputs": [
    {
     "data": {
      "text/plain": [
       "964"
      ]
     },
     "execution_count": 10,
     "metadata": {},
     "output_type": "execute_result"
    }
   ],
   "source": [
    "len(tweets_hours)"
   ]
  },
  {
   "cell_type": "markdown",
   "metadata": {},
   "source": [
    "### #of retweets per hour"
   ]
  },
  {
   "cell_type": "code",
   "execution_count": 11,
   "metadata": {
    "collapsed": true
   },
   "outputs": [],
   "source": [
    "start_date = datetime.datetime(2014, 12, 29, 7,0,0)\n",
    "mintime = int(time.mktime(start_date.timetuple()))\n",
    "end_date = datetime.datetime(2015,2,8, 0,0,0)\n",
    "maxtime = int(time.mktime(end_date.timetuple()))"
   ]
  },
  {
   "cell_type": "code",
   "execution_count": 12,
   "metadata": {
    "collapsed": true
   },
   "outputs": [],
   "source": [
    "retweets_hours=[]\n",
    "retweet_in_hour=0"
   ]
  },
  {
   "cell_type": "code",
   "execution_count": 13,
   "metadata": {
    "collapsed": true
   },
   "outputs": [],
   "source": [
    "f = open('tweets_#superbowl.txt')\n",
    "line = f.readline()"
   ]
  },
  {
   "cell_type": "code",
   "execution_count": 14,
   "metadata": {
    "collapsed": false
   },
   "outputs": [],
   "source": [
    "while len(line)!=0:\n",
    "    tweet = json.loads(line)\n",
    "    tweet_time = tweet['firstpost_date']\n",
    "    if tweet_time>=mintime and tweet_time<mintime+3600:\n",
    "        retweet_in_hour += tweet['metrics']['citations']['total']\n",
    "        line = f.readline()\n",
    "        if len(line)==0:\n",
    "            retweets_hours.append(retweet_in_hour) #help plot the final part\n",
    "    else:\n",
    "        mark=1 #there is a tweet need to be delt with\n",
    "        retweets_hours.append(retweet_in_hour)\n",
    "        retweet_in_hour=0\n",
    "        while mark==1:\n",
    "            mintime = mintime+3600\n",
    "            if tweet_time>=mintime and tweet_time<mintime+3600:\n",
    "                retweet_in_hour += tweet['metrics']['citations']['total']\n",
    "                mark=0 #this tweet has been delt with\n",
    "            else:\n",
    "                retweets_hours.append(0)\n",
    "        line = f.readline()\n",
    "        if len(line)==0:\n",
    "            retweets_hours.append(retweet_in_hour) #help plot the final part"
   ]
  },
  {
   "cell_type": "code",
   "execution_count": 15,
   "metadata": {
    "collapsed": false
   },
   "outputs": [
    {
     "data": {
      "text/plain": [
       "964"
      ]
     },
     "execution_count": 15,
     "metadata": {},
     "output_type": "execute_result"
    }
   ],
   "source": [
    "len(retweets_hours)"
   ]
  },
  {
   "cell_type": "markdown",
   "metadata": {},
   "source": [
    "### #of followers per hour and maximum #of followers per hour"
   ]
  },
  {
   "cell_type": "code",
   "execution_count": 16,
   "metadata": {
    "collapsed": true
   },
   "outputs": [],
   "source": [
    "start_date = datetime.datetime(2014, 12, 29, 7,0,0)\n",
    "mintime = int(time.mktime(start_date.timetuple()))\n",
    "end_date = datetime.datetime(2015,2,8, 0,0,0)\n",
    "maxtime = int(time.mktime(end_date.timetuple()))"
   ]
  },
  {
   "cell_type": "code",
   "execution_count": 17,
   "metadata": {
    "collapsed": true
   },
   "outputs": [],
   "source": [
    "followers_hours=[]\n",
    "follower_in_hour=0\n",
    "i=0"
   ]
  },
  {
   "cell_type": "code",
   "execution_count": 18,
   "metadata": {
    "collapsed": true
   },
   "outputs": [],
   "source": [
    "max_followers_hours=[]\n",
    "max_followers_in_hour = 0"
   ]
  },
  {
   "cell_type": "code",
   "execution_count": 19,
   "metadata": {
    "collapsed": true
   },
   "outputs": [],
   "source": [
    "f = open('tweets_#superbowl.txt')\n",
    "line = f.readline()\n",
    "unique_users=[]"
   ]
  },
  {
   "cell_type": "code",
   "execution_count": 20,
   "metadata": {
    "collapsed": false
   },
   "outputs": [],
   "source": [
    "while len(line)!=0:\n",
    "    tweet = json.loads(line)\n",
    "    tweet_time = tweet['firstpost_date']\n",
    "    if tweet_time>=mintime and tweet_time<mintime+3600:\n",
    "        cluster=tweet['author']['nick'] # deal with duplicate\n",
    "        if cluster not in unique_users:\n",
    "            unique_users.append(cluster)\n",
    "            follower_in_hour += tweet['author']['followers']\n",
    "        max_followers_in_hour = max( max_followers_in_hour, tweet['author']['followers'])\n",
    "        line = f.readline()\n",
    "        if len(line)==0:\n",
    "            followers_hours.append(follower_in_hour) #help plot the final part\n",
    "            max_followers_hours.append(max_followers_in_hour)\n",
    "    else:\n",
    "        mark=1 #there is a tweet need to be delt with\n",
    "        followers_hours.append(follower_in_hour)\n",
    "        max_followers_hours.append(max_followers_in_hour)\n",
    "        follower_in_hour=0\n",
    "        max_followers_in_hour=0\n",
    "        unique_users=[]\n",
    "        while mark==1:\n",
    "            mintime = mintime+3600\n",
    "            if tweet_time>=mintime and tweet_time<mintime+3600:\n",
    "                unique_users.append(tweet['author']['nick']) # deal with duplicate\n",
    "                follower_in_hour += tweet['author']['followers']\n",
    "                max_followers_in_hour = max( max_followers_in_hour, tweet['author']['followers'])\n",
    "                mark=0 #this tweet has been delt with\n",
    "            else:\n",
    "                followers_hours.append(0) #help plot the final part\n",
    "                max_followers_hours.append(0)\n",
    "        line = f.readline()\n",
    "        if len(line)==0:\n",
    "            followers_hours.append(follower_in_hour) #help plot the final part\n",
    "            max_followers_hours.append(max_followers_in_hour)\n",
    "f.close()"
   ]
  },
  {
   "cell_type": "code",
   "execution_count": 21,
   "metadata": {
    "collapsed": false
   },
   "outputs": [
    {
     "data": {
      "text/plain": [
       "964"
      ]
     },
     "execution_count": 21,
     "metadata": {},
     "output_type": "execute_result"
    }
   ],
   "source": [
    "len(followers_hours)"
   ]
  },
  {
   "cell_type": "code",
   "execution_count": 22,
   "metadata": {
    "collapsed": false
   },
   "outputs": [
    {
     "data": {
      "text/plain": [
       "964"
      ]
     },
     "execution_count": 22,
     "metadata": {},
     "output_type": "execute_result"
    }
   ],
   "source": [
    "len(max_followers_hours)"
   ]
  },
  {
   "cell_type": "markdown",
   "metadata": {},
   "source": [
    "### time in hours"
   ]
  },
  {
   "cell_type": "code",
   "execution_count": 23,
   "metadata": {
    "collapsed": true
   },
   "outputs": [],
   "source": [
    "time_hours=[];\n",
    "time_now=7;"
   ]
  },
  {
   "cell_type": "code",
   "execution_count": 24,
   "metadata": {
    "collapsed": true
   },
   "outputs": [],
   "source": [
    "start_date = datetime.datetime(2014, 12, 29, 7,0,0)\n",
    "mintime = int(time.mktime(start_date.timetuple()))\n",
    "end_date = datetime.datetime(2015,2,8, 0,0,0)\n",
    "maxtime = int(time.mktime(end_date.timetuple()))"
   ]
  },
  {
   "cell_type": "code",
   "execution_count": 25,
   "metadata": {
    "collapsed": false
   },
   "outputs": [],
   "source": [
    "while maxtime>mintime:\n",
    "    time_hours.append(time_now)\n",
    "    mintime += 3600\n",
    "    time_now+=1\n",
    "    if time_now==24:\n",
    "        time_now=0"
   ]
  },
  {
   "cell_type": "code",
   "execution_count": 26,
   "metadata": {
    "collapsed": false
   },
   "outputs": [
    {
     "data": {
      "text/plain": [
       "977"
      ]
     },
     "execution_count": 26,
     "metadata": {},
     "output_type": "execute_result"
    }
   ],
   "source": [
    "len(time_hours)"
   ]
  },
  {
   "cell_type": "code",
   "execution_count": 27,
   "metadata": {
    "collapsed": false
   },
   "outputs": [],
   "source": [
    "time_hours=time_hours[:964] # to be the same as before"
   ]
  },
  {
   "cell_type": "markdown",
   "metadata": {},
   "source": [
    "### tweets_next_hours"
   ]
  },
  {
   "cell_type": "code",
   "execution_count": 28,
   "metadata": {
    "collapsed": true
   },
   "outputs": [],
   "source": [
    "tweets_next_hours=tweets_hours[1:]"
   ]
  },
  {
   "cell_type": "markdown",
   "metadata": {},
   "source": [
    "### fetures and targets"
   ]
  },
  {
   "cell_type": "code",
   "execution_count": 29,
   "metadata": {
    "collapsed": false
   },
   "outputs": [],
   "source": [
    "target=tweets_next_hours\n",
    "x1=tweets_hours[:-1]\n",
    "x2=retweets_hours[:-1]\n",
    "x3=followers_hours[:-1]\n",
    "x4=max_followers_hours[:-1]\n",
    "x5=time_hours[:-1]"
   ]
  },
  {
   "cell_type": "markdown",
   "metadata": {},
   "source": [
    "### Linear Regression"
   ]
  },
  {
   "cell_type": "code",
   "execution_count": 30,
   "metadata": {
    "collapsed": false
   },
   "outputs": [],
   "source": [
    "import numpy as np"
   ]
  },
  {
   "cell_type": "code",
   "execution_count": 31,
   "metadata": {
    "collapsed": true
   },
   "outputs": [],
   "source": [
    "import statsmodels.api as sm"
   ]
  },
  {
   "cell_type": "code",
   "execution_count": 32,
   "metadata": {
    "collapsed": false
   },
   "outputs": [],
   "source": [
    "x1=np.array(x1)\n",
    "x2=np.array(x2)\n",
    "x3=np.array(x3)\n",
    "x4=np.array(x4)\n",
    "x5=np.array(x5)\n",
    "target=np.array(target)"
   ]
  },
  {
   "cell_type": "code",
   "execution_count": 33,
   "metadata": {
    "collapsed": true
   },
   "outputs": [],
   "source": [
    "x=[x1,x2,x3,x4,x5]"
   ]
  },
  {
   "cell_type": "code",
   "execution_count": 34,
   "metadata": {
    "collapsed": false
   },
   "outputs": [],
   "source": [
    "x=np.array(x)"
   ]
  },
  {
   "cell_type": "code",
   "execution_count": 35,
   "metadata": {
    "collapsed": false
   },
   "outputs": [
    {
     "data": {
      "text/plain": [
       "(5, 963)"
      ]
     },
     "execution_count": 35,
     "metadata": {},
     "output_type": "execute_result"
    }
   ],
   "source": [
    "x.shape"
   ]
  },
  {
   "cell_type": "code",
   "execution_count": 36,
   "metadata": {
    "collapsed": true
   },
   "outputs": [],
   "source": [
    "x=x.transpose()"
   ]
  },
  {
   "cell_type": "code",
   "execution_count": 37,
   "metadata": {
    "collapsed": true
   },
   "outputs": [],
   "source": [
    "x = sm.add_constant(x)"
   ]
  },
  {
   "cell_type": "code",
   "execution_count": 38,
   "metadata": {
    "collapsed": false
   },
   "outputs": [
    {
     "data": {
      "text/plain": [
       "(963, 6)"
      ]
     },
     "execution_count": 38,
     "metadata": {},
     "output_type": "execute_result"
    }
   ],
   "source": [
    "x.shape"
   ]
  },
  {
   "cell_type": "code",
   "execution_count": 39,
   "metadata": {
    "collapsed": false
   },
   "outputs": [],
   "source": [
    "mod = sm.OLS(target, x)"
   ]
  },
  {
   "cell_type": "code",
   "execution_count": 40,
   "metadata": {
    "collapsed": false
   },
   "outputs": [],
   "source": [
    "res = mod.fit()"
   ]
  },
  {
   "cell_type": "code",
   "execution_count": 41,
   "metadata": {
    "collapsed": false
   },
   "outputs": [
    {
     "name": "stdout",
     "output_type": "stream",
     "text": [
      "                            OLS Regression Results                            \n",
      "==============================================================================\n",
      "Dep. Variable:                      y   R-squared:                       0.734\n",
      "Model:                            OLS   Adj. R-squared:                  0.733\n",
      "Method:                 Least Squares   F-statistic:                     528.1\n",
      "Date:                Fri, 18 Mar 2016   Prob (F-statistic):          3.31e-272\n",
      "Time:                        19:43:37   Log-Likelihood:                -9924.9\n",
      "No. Observations:                 963   AIC:                         1.986e+04\n",
      "Df Residuals:                     957   BIC:                         1.989e+04\n",
      "Df Model:                           5                                         \n",
      "Covariance Type:            nonrobust                                         \n",
      "==============================================================================\n",
      "                 coef    std err          t      P>|t|      [95.0% Conf. Int.]\n",
      "------------------------------------------------------------------------------\n",
      "const        288.6605    464.578      0.621      0.535      -623.048  1200.369\n",
      "x1             1.9621      0.258      7.601      0.000         1.456     2.469\n",
      "x2            -0.1250      0.125     -1.001      0.317        -0.370     0.120\n",
      "x3            -0.0003   2.65e-05    -12.429      0.000        -0.000    -0.000\n",
      "x4             0.0012      0.000      9.021      0.000         0.001     0.001\n",
      "x5           -11.6475     33.934     -0.343      0.731       -78.241    54.945\n",
      "==============================================================================\n",
      "Omnibus:                     1873.407   Durbin-Watson:                   1.698\n",
      "Prob(Omnibus):                  0.000   Jarque-Bera (JB):          5729515.296\n",
      "Skew:                          13.880   Prob(JB):                         0.00\n",
      "Kurtosis:                     379.857   Cond. No.                     9.19e+07\n",
      "==============================================================================\n",
      "\n",
      "Warnings:\n",
      "[1] Standard Errors assume that the covariance matrix of the errors is correctly specified.\n",
      "[2] The condition number is large, 9.19e+07. This might indicate that there are\n",
      "strong multicollinearity or other numerical problems.\n"
     ]
    }
   ],
   "source": [
    "print (res.summary())"
   ]
  },
  {
   "cell_type": "code",
   "execution_count": 42,
   "metadata": {
    "collapsed": false
   },
   "outputs": [
    {
     "data": {
      "text/plain": [
       "array([  5.34524182e-01,   6.98598514e-14,   3.17256871e-01,\n",
       "         5.51216218e-33,   1.00161666e-18,   7.31490682e-01])"
      ]
     },
     "execution_count": 42,
     "metadata": {},
     "output_type": "execute_result"
    }
   ],
   "source": [
    "res.pvalues"
   ]
  },
  {
   "cell_type": "code",
   "execution_count": 43,
   "metadata": {
    "collapsed": true
   },
   "outputs": [],
   "source": [
    "target_predict=res.predict(x)"
   ]
  },
  {
   "cell_type": "code",
   "execution_count": 44,
   "metadata": {
    "collapsed": true
   },
   "outputs": [],
   "source": [
    "error=abs(target_predict-target)"
   ]
  },
  {
   "cell_type": "code",
   "execution_count": 45,
   "metadata": {
    "collapsed": false
   },
   "outputs": [
    {
     "data": {
      "text/plain": [
       "1426.187118880654"
      ]
     },
     "execution_count": 45,
     "metadata": {},
     "output_type": "execute_result"
    }
   ],
   "source": [
    "np.mean(error)"
   ]
  },
  {
   "cell_type": "markdown",
   "metadata": {
    "collapsed": true
   },
   "source": [
    "### Problem 3"
   ]
  },
  {
   "cell_type": "markdown",
   "metadata": {},
   "source": [
    "### #of mentioned_users per hour"
   ]
  },
  {
   "cell_type": "code",
   "execution_count": 71,
   "metadata": {
    "collapsed": false
   },
   "outputs": [],
   "source": [
    "start_date = datetime.datetime(2014, 12, 30, 20,0,0)\n",
    "mintime = int(time.mktime(start_date.timetuple()))\n",
    "end_date = datetime.datetime(2015,2,8, 0,0,0)\n",
    "maxtime = int(time.mktime(end_date.timetuple()))"
   ]
  },
  {
   "cell_type": "code",
   "execution_count": 72,
   "metadata": {
    "collapsed": true
   },
   "outputs": [],
   "source": [
    "mentions_hours=[]\n",
    "mention_in_hour=0\n",
    "i=0"
   ]
  },
  {
   "cell_type": "code",
   "execution_count": 74,
   "metadata": {
    "collapsed": false
   },
   "outputs": [],
   "source": [
    "while i<num_tweets:\n",
    "    tweet=tweets[i]\n",
    "    tweet_time = tweet['firstpost_date']\n",
    "    if tweet_time>=mintime and tweet_time<mintime+3600:\n",
    "        mention_in_hour += len(tweet['tweet']['entities']['user_mentions'])\n",
    "        i+=1\n",
    "        if i==num_tweets:\n",
    "            mentions_hours.append(mention_in_hour) #help plot the final part\n",
    "    else:\n",
    "        mark=1 # there is a tweet we have to deal with\n",
    "        mentions_hours.append(mention_in_hour)\n",
    "        mention_in_hour=0\n",
    "        while mark==1:\n",
    "            mintime = mintime+3600\n",
    "            if tweet_time>=mintime and tweet_time<mintime+3600:\n",
    "                mention_in_hour += len(tweet['tweet']['entities']['user_mentions'])\n",
    "                mark=0 # the tweet has been delt with\n",
    "            else:\n",
    "                mentions_hours.append(0)\n",
    "        i+=1\n",
    "        if i==num_tweets:\n",
    "            mentions_hours.append(mention_in_hour) #help plot the final part"
   ]
  },
  {
   "cell_type": "code",
   "execution_count": 75,
   "metadata": {
    "collapsed": false
   },
   "outputs": [
    {
     "data": {
      "text/plain": [
       "927"
      ]
     },
     "execution_count": 75,
     "metadata": {},
     "output_type": "execute_result"
    }
   ],
   "source": [
    "len(mentions_hours)"
   ]
  },
  {
   "cell_type": "markdown",
   "metadata": {},
   "source": [
    "### #of hashtags per hour"
   ]
  },
  {
   "cell_type": "code",
   "execution_count": 67,
   "metadata": {
    "collapsed": true
   },
   "outputs": [],
   "source": [
    "start_date = datetime.datetime(2014, 12, 30, 20,0,0)\n",
    "mintime = int(time.mktime(start_date.timetuple()))\n",
    "end_date = datetime.datetime(2015,2,8, 0,0,0)\n",
    "maxtime = int(time.mktime(end_date.timetuple()))"
   ]
  },
  {
   "cell_type": "code",
   "execution_count": 68,
   "metadata": {
    "collapsed": true
   },
   "outputs": [],
   "source": [
    "hashtags_hours=[]\n",
    "hashtag_in_hour=0\n",
    "i=0"
   ]
  },
  {
   "cell_type": "code",
   "execution_count": 69,
   "metadata": {
    "collapsed": true
   },
   "outputs": [],
   "source": [
    "while i<num_tweets:\n",
    "    tweet=tweets[i]\n",
    "    tweet_time = tweet['firstpost_date']\n",
    "    if tweet_time>=mintime and tweet_time<mintime+3600:\n",
    "        hashtag_in_hour += (len(tweet['tweet']['entities']['hashtags'])-1)\n",
    "        i+=1\n",
    "        if i==num_tweets:\n",
    "            hashtags_hours.append(hashtag_in_hour) #help plot the final part\n",
    "    else:\n",
    "        mark=1 # there is a tweet we need to deal with\n",
    "        hashtags_hours.append(hashtag_in_hour)\n",
    "        hashtag_in_hour=0\n",
    "        while mark==1:\n",
    "            mintime = mintime+3600\n",
    "            if tweet_time>=mintime and tweet_time<mintime+3600:\n",
    "                hashtag_in_hour += (len(tweet['tweet']['entities']['hashtags'])-1)#we have to delet itself\n",
    "                mark=0;\n",
    "            else:\n",
    "                hashtags_hours.append(0)\n",
    "        i+=1\n",
    "        if i==num_tweets:\n",
    "            hashtags_hours.append(hashtag_in_hour) #help plot the final part"
   ]
  },
  {
   "cell_type": "code",
   "execution_count": 70,
   "metadata": {
    "collapsed": false
   },
   "outputs": [
    {
     "data": {
      "text/plain": [
       "927"
      ]
     },
     "execution_count": 70,
     "metadata": {},
     "output_type": "execute_result"
    }
   ],
   "source": [
    "len(hashtags_hours)"
   ]
  },
  {
   "cell_type": "markdown",
   "metadata": {},
   "source": [
    "### #of favorites per hour"
   ]
  },
  {
   "cell_type": "code",
   "execution_count": 63,
   "metadata": {
    "collapsed": true
   },
   "outputs": [],
   "source": [
    "start_date = datetime.datetime(2014, 12, 30, 20,0,0)\n",
    "mintime = int(time.mktime(start_date.timetuple()))\n",
    "end_date = datetime.datetime(2015,2,8, 0,0,0)\n",
    "maxtime = int(time.mktime(end_date.timetuple()))"
   ]
  },
  {
   "cell_type": "code",
   "execution_count": 64,
   "metadata": {
    "collapsed": true
   },
   "outputs": [],
   "source": [
    "favorites_hours=[]\n",
    "favorite_in_hour=0\n",
    "i=0"
   ]
  },
  {
   "cell_type": "code",
   "execution_count": 65,
   "metadata": {
    "collapsed": true
   },
   "outputs": [],
   "source": [
    "while i<num_tweets:\n",
    "    tweet=tweets[i]\n",
    "    tweet_time = tweet['firstpost_date']\n",
    "    if tweet_time>=mintime and tweet_time<mintime+3600:\n",
    "        favorite_in_hour += tweet['tweet']['favorite_count']\n",
    "        i+=1\n",
    "        if i==num_tweets:\n",
    "            favorites_hours.append(favorite_in_hour) #help plot the final part\n",
    "    else:\n",
    "        mark=1 # there is a tweet need to be delt with\n",
    "        favorites_hours.append(favorite_in_hour)\n",
    "        favorite_in_hour=0\n",
    "        while mark==1:\n",
    "            mintime = mintime+3600\n",
    "            if tweet_time>=mintime and tweet_time<mintime+3600:\n",
    "                favorite_in_hour += tweet['tweet']['favorite_count']\n",
    "                mark=0 # this tweet have been handled\n",
    "            else:\n",
    "                favorites_hours.append(0)\n",
    "        i+=1\n",
    "        if i==num_tweets:\n",
    "            favorites_hours.append(favorite_in_hour) #help plot the final part"
   ]
  },
  {
   "cell_type": "code",
   "execution_count": 66,
   "metadata": {
    "collapsed": false
   },
   "outputs": [
    {
     "data": {
      "text/plain": [
       "927"
      ]
     },
     "execution_count": 66,
     "metadata": {},
     "output_type": "execute_result"
    }
   ],
   "source": [
    "len(favorites_hours)"
   ]
  },
  {
   "cell_type": "markdown",
   "metadata": {},
   "source": [
    "### new features"
   ]
  },
  {
   "cell_type": "code",
   "execution_count": 76,
   "metadata": {
    "collapsed": true
   },
   "outputs": [],
   "source": [
    "x6=mentions_hours[:-1]\n",
    "x7=hashtags_hours[:-1]\n",
    "x8=favorites_hours[:-1]\n",
    "x6=np.array(x6)\n",
    "x7=np.array(x7)\n",
    "x8=np.array(x8)"
   ]
  },
  {
   "cell_type": "code",
   "execution_count": 218,
   "metadata": {
    "collapsed": true
   },
   "outputs": [],
   "source": [
    "xnew=[x1,x3,x4]"
   ]
  },
  {
   "cell_type": "code",
   "execution_count": 219,
   "metadata": {
    "collapsed": true
   },
   "outputs": [],
   "source": [
    "xnew=np.array(xnew)"
   ]
  },
  {
   "cell_type": "code",
   "execution_count": 220,
   "metadata": {
    "collapsed": true
   },
   "outputs": [],
   "source": [
    "xnew=xnew.transpose()"
   ]
  },
  {
   "cell_type": "code",
   "execution_count": 221,
   "metadata": {
    "collapsed": false
   },
   "outputs": [
    {
     "data": {
      "text/plain": [
       "(963, 3)"
      ]
     },
     "execution_count": 221,
     "metadata": {},
     "output_type": "execute_result"
    }
   ],
   "source": [
    "xnew.shape"
   ]
  },
  {
   "cell_type": "code",
   "execution_count": 145,
   "metadata": {
    "collapsed": true
   },
   "outputs": [],
   "source": [
    "xnew=sm.add_constant(xnew)"
   ]
  },
  {
   "cell_type": "code",
   "execution_count": 146,
   "metadata": {
    "collapsed": false
   },
   "outputs": [
    {
     "name": "stdout",
     "output_type": "stream",
     "text": [
      "                            OLS Regression Results                            \n",
      "==============================================================================\n",
      "Dep. Variable:                      y   R-squared:                       0.734\n",
      "Model:                            OLS   Adj. R-squared:                  0.733\n",
      "Method:                 Least Squares   F-statistic:                     660.7\n",
      "Date:                Fri, 18 Mar 2016   Prob (F-statistic):          1.28e-273\n",
      "Time:                        19:55:22   Log-Likelihood:                -9925.0\n",
      "No. Observations:                 963   AIC:                         1.986e+04\n",
      "Df Residuals:                     958   BIC:                         1.988e+04\n",
      "Df Model:                           4                                         \n",
      "Covariance Type:            nonrobust                                         \n",
      "==============================================================================\n",
      "                 coef    std err          t      P>|t|      [95.0% Conf. Int.]\n",
      "------------------------------------------------------------------------------\n",
      "const        156.9457    261.756      0.600      0.549      -356.735   670.627\n",
      "x1             1.9619      0.258      7.604      0.000         1.456     2.468\n",
      "x2            -0.1252      0.125     -1.002      0.316        -0.370     0.120\n",
      "x3            -0.0003   2.65e-05    -12.430      0.000        -0.000    -0.000\n",
      "x4             0.0012      0.000      9.018      0.000         0.001     0.001\n",
      "==============================================================================\n",
      "Omnibus:                     1872.931   Durbin-Watson:                   1.697\n",
      "Prob(Omnibus):                  0.000   Jarque-Bera (JB):          5721675.131\n",
      "Skew:                          13.872   Prob(JB):                         0.00\n",
      "Kurtosis:                     379.599   Cond. No.                     5.17e+07\n",
      "==============================================================================\n",
      "\n",
      "Warnings:\n",
      "[1] Standard Errors assume that the covariance matrix of the errors is correctly specified.\n",
      "[2] The condition number is large, 5.17e+07. This might indicate that there are\n",
      "strong multicollinearity or other numerical problems.\n"
     ]
    }
   ],
   "source": [
    "modnew = sm.OLS(target, xnew)\n",
    "resnew = modnew.fit()\n",
    "print (resnew.summary())"
   ]
  },
  {
   "cell_type": "code",
   "execution_count": 284,
   "metadata": {
    "collapsed": false
   },
   "outputs": [
    {
     "data": {
      "text/plain": [
       "array([  8.26688594e-01,   2.06534825e-33,   1.18757112e-75,\n",
       "         4.88278771e-02,   8.05403534e-01,   1.70613357e-01])"
      ]
     },
     "execution_count": 284,
     "metadata": {},
     "output_type": "execute_result"
    }
   ],
   "source": [
    "resnew.pvalues"
   ]
  },
  {
   "cell_type": "code",
   "execution_count": 285,
   "metadata": {
    "collapsed": false
   },
   "outputs": [],
   "source": [
    "import matplotlib.pyplot as plt"
   ]
  },
  {
   "cell_type": "code",
   "execution_count": 289,
   "metadata": {
    "collapsed": false
   },
   "outputs": [
    {
     "data": {
      "text/plain": [
       "<matplotlib.collections.PathCollection at 0x28eb83c88>"
      ]
     },
     "execution_count": 289,
     "metadata": {},
     "output_type": "execute_result"
    }
   ],
   "source": [
    "plt.scatter(x3,target,color='blue') # just take x6 as an example"
   ]
  },
  {
   "cell_type": "code",
   "execution_count": 290,
   "metadata": {
    "collapsed": false
   },
   "outputs": [
    {
     "data": {
      "text/plain": [
       "<matplotlib.text.Text at 0x28bf45198>"
      ]
     },
     "execution_count": 290,
     "metadata": {},
     "output_type": "execute_result"
    }
   ],
   "source": [
    "plt.title(\"XXX versus XXX\")\n",
    "plt.xlabel(\"feature\")\n",
    "plt.ylabel(\"predictant\")"
   ]
  },
  {
   "cell_type": "code",
   "execution_count": 291,
   "metadata": {
    "collapsed": true
   },
   "outputs": [],
   "source": [
    "plt.show()"
   ]
  },
  {
   "cell_type": "code",
   "execution_count": 258,
   "metadata": {
    "collapsed": false
   },
   "outputs": [
    {
     "data": {
      "text/plain": [
       "119.33771409682974"
      ]
     },
     "execution_count": 258,
     "metadata": {},
     "output_type": "execute_result"
    }
   ],
   "source": [
    "sum(abs(resnew.predict(xnew)-target))/len(target)"
   ]
  },
  {
   "cell_type": "markdown",
   "metadata": {},
   "source": [
    "### Problem4"
   ]
  },
  {
   "cell_type": "code",
   "execution_count": 222,
   "metadata": {
    "collapsed": false
   },
   "outputs": [],
   "source": [
    "play_start_date = datetime.datetime(2015,2,1, 8,0,0)\n",
    "play_end_date = datetime.datetime(2015,2,1, 20,0,0)\n",
    "playmintime = int(time.mktime(play_start_date.timetuple()))\n",
    "playmaxtime = int(time.mktime(play_end_date.timetuple()))"
   ]
  },
  {
   "cell_type": "code",
   "execution_count": 223,
   "metadata": {
    "collapsed": true
   },
   "outputs": [],
   "source": [
    "start_date = datetime.datetime(2014, 12, 29, 7,0,0)\n",
    "mintime = int(time.mktime(start_date.timetuple()))\n",
    "end_date = datetime.datetime(2015,2,8, 0,0,0)\n",
    "maxtime = int(time.mktime(end_date.timetuple()))"
   ]
  },
  {
   "cell_type": "code",
   "execution_count": 224,
   "metadata": {
    "collapsed": false
   },
   "outputs": [],
   "source": [
    "index_start=(playmintime-mintime)/3600 \n",
    "index_end=(playmaxtime-mintime)/3600 #because [index_start:index_end] will include the first one but not include the last one"
   ]
  },
  {
   "cell_type": "code",
   "execution_count": 225,
   "metadata": {
    "collapsed": false
   },
   "outputs": [
    {
     "name": "stderr",
     "output_type": "stream",
     "text": [
      "/Users/Xin/anaconda/lib/python3.5/site-packages/ipykernel/__main__.py:1: DeprecationWarning: using a non-integer number instead of an integer will result in an error in the future\n",
      "  if __name__ == '__main__':\n",
      "/Users/Xin/anaconda/lib/python3.5/site-packages/ipykernel/__main__.py:2: DeprecationWarning: using a non-integer number instead of an integer will result in an error in the future\n",
      "  from ipykernel import kernelapp as app\n"
     ]
    }
   ],
   "source": [
    "before_game=xnew[:index_start]\n",
    "before_game_target=target[:index_start]"
   ]
  },
  {
   "cell_type": "code",
   "execution_count": 228,
   "metadata": {
    "collapsed": false
   },
   "outputs": [
    {
     "name": "stderr",
     "output_type": "stream",
     "text": [
      "/Users/Xin/anaconda/lib/python3.5/site-packages/ipykernel/__main__.py:1: DeprecationWarning: using a non-integer number instead of an integer will result in an error in the future\n",
      "  if __name__ == '__main__':\n",
      "/Users/Xin/anaconda/lib/python3.5/site-packages/ipykernel/__main__.py:2: DeprecationWarning: using a non-integer number instead of an integer will result in an error in the future\n",
      "  from ipykernel import kernelapp as app\n"
     ]
    }
   ],
   "source": [
    "between_game=xnew[index_start:index_end] #include the first one but not include the last one\n",
    "between_game_target=target[index_start:index_end]"
   ]
  },
  {
   "cell_type": "code",
   "execution_count": 231,
   "metadata": {
    "collapsed": false
   },
   "outputs": [
    {
     "name": "stderr",
     "output_type": "stream",
     "text": [
      "/Users/Xin/anaconda/lib/python3.5/site-packages/ipykernel/__main__.py:1: DeprecationWarning: using a non-integer number instead of an integer will result in an error in the future\n",
      "  if __name__ == '__main__':\n",
      "/Users/Xin/anaconda/lib/python3.5/site-packages/ipykernel/__main__.py:2: DeprecationWarning: using a non-integer number instead of an integer will result in an error in the future\n",
      "  from ipykernel import kernelapp as app\n"
     ]
    }
   ],
   "source": [
    "after_game=xnew[index_end:]\n",
    "after_game_target=target[index_end:]"
   ]
  },
  {
   "cell_type": "markdown",
   "metadata": {},
   "source": [
    "### 10-fold and test"
   ]
  },
  {
   "cell_type": "code",
   "execution_count": 234,
   "metadata": {
    "collapsed": true
   },
   "outputs": [],
   "source": [
    "from sklearn.cross_validation import KFold"
   ]
  },
  {
   "cell_type": "code",
   "execution_count": 235,
   "metadata": {
    "collapsed": false
   },
   "outputs": [],
   "source": [
    "error_before=[]\n",
    "kf_before = KFold(len(before_game_target), n_folds=10,shuffle=False, random_state=None)\n",
    "for train_index, test_index in kf_before:\n",
    "    X_train, X_test = before_game[train_index], before_game[test_index]\n",
    "    y_train, y_test = before_game_target[train_index], before_game_target[test_index] \n",
    "    #code that to train the model and test the model\n",
    "    modfold = sm.OLS(y_train, X_train)\n",
    "    resfold = modfold.fit()\n",
    "    y_predict = resfold.predict(X_test)\n",
    "    sum(abs(y_test-y_predict))/len(y_test-y_predict)\n",
    "    error_before.append(sum(abs(y_test-y_predict))/len(y_test-y_predict))\n",
    "error_before_avg=np.mean(error_before)"
   ]
  },
  {
   "cell_type": "code",
   "execution_count": 236,
   "metadata": {
    "collapsed": false
   },
   "outputs": [
    {
     "data": {
      "text/plain": [
       "149.84942347286753"
      ]
     },
     "execution_count": 236,
     "metadata": {},
     "output_type": "execute_result"
    }
   ],
   "source": [
    "error_before_avg"
   ]
  },
  {
   "cell_type": "code",
   "execution_count": 237,
   "metadata": {
    "collapsed": false
   },
   "outputs": [],
   "source": [
    "error_between=[]\n",
    "test_y=[]\n",
    "predict_y=[]\n",
    "kf_between = KFold(len(between_game_target), n_folds=10,shuffle=False, random_state=None)\n",
    "for train_index, test_index in kf_between:\n",
    "    X_train, X_test = between_game[train_index], between_game[test_index]\n",
    "    y_train, y_test = between_game_target[train_index], between_game_target[test_index]\n",
    "    #code that to train the model and test the model\n",
    "    modfold = sm.OLS(y_train, X_train)\n",
    "    resfold = modfold.fit()\n",
    "    y_predict = resfold.predict(X_test)\n",
    "    predict_y.append(y_predict)\n",
    "    test_y.append(y_test)\n",
    "    error_between_unit=sum(abs(y_test-y_predict))/len(y_test-y_predict)\n",
    "    error_between.append(error_between_unit)\n",
    "error_between_avg=np.mean(error_between)"
   ]
  },
  {
   "cell_type": "code",
   "execution_count": 238,
   "metadata": {
    "collapsed": false
   },
   "outputs": [
    {
     "data": {
      "text/plain": [
       "55377.254048038158"
      ]
     },
     "execution_count": 238,
     "metadata": {},
     "output_type": "execute_result"
    }
   ],
   "source": [
    "error_between_avg"
   ]
  },
  {
   "cell_type": "code",
   "execution_count": 241,
   "metadata": {
    "collapsed": false
   },
   "outputs": [],
   "source": [
    "error_after=[]\n",
    "kf_after = KFold(len(after_game_target), n_folds=10,shuffle=False, random_state=None)\n",
    "for train_index, test_index in kf_after:\n",
    "    X_train, X_test = after_game[train_index], after_game[test_index]\n",
    "    y_train, y_test = after_game_target[train_index], after_game_target[test_index]\n",
    "    #code that to train the model and test the model\n",
    "    modfold = sm.OLS(y_train, X_train)\n",
    "    resfold = modfold.fit()\n",
    "    y_predict = resfold.predict(X_test)\n",
    "    sum(abs(y_test-y_predict))/len(y_test-y_predict)\n",
    "    error_after.append(sum(abs(y_test-y_predict))/len(y_test-y_predict))\n",
    "error_after_avg=np.mean(error_after)"
   ]
  },
  {
   "cell_type": "code",
   "execution_count": 242,
   "metadata": {
    "collapsed": false
   },
   "outputs": [
    {
     "data": {
      "text/plain": [
       "192.9145900239935"
      ]
     },
     "execution_count": 242,
     "metadata": {},
     "output_type": "execute_result"
    }
   ],
   "source": [
    "error_after_avg"
   ]
  },
  {
   "cell_type": "code",
   "execution_count": null,
   "metadata": {
    "collapsed": true
   },
   "outputs": [],
   "source": []
  }
 ],
 "metadata": {
  "kernelspec": {
   "display_name": "Python 3",
   "language": "python",
   "name": "python3"
  },
  "language_info": {
   "codemirror_mode": {
    "name": "ipython",
    "version": 3
   },
   "file_extension": ".py",
   "mimetype": "text/x-python",
   "name": "python",
   "nbconvert_exporter": "python",
   "pygments_lexer": "ipython3",
   "version": "3.5.1"
  }
 },
 "nbformat": 4,
 "nbformat_minor": 0
}
